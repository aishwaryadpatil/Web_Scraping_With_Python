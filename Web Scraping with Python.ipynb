{
 "cells": [
  {
   "cell_type": "code",
   "execution_count": null,
   "id": "1c53a9c6",
   "metadata": {},
   "outputs": [],
   "source": [
    "\n",
    "# import Libraries\n",
    "\n",
    "from bs4 import BeautifulSoup\n",
    "import requests\n",
    "import pandas as pd\n",
    "\n"
   ]
  },
  {
   "cell_type": "code",
   "execution_count": null,
   "id": "e87bedc6",
   "metadata": {},
   "outputs": [],
   "source": [
    "\n",
    "#Connect to website\n",
    "\n",
    "URL = 'https://olympics.com/ioc/national-olympic-committees'\n",
    "headers = ({\"User-Agent\": \"Mozilla/5.0 (Macintosh; Intel Mac OS X 10_15_7) AppleWebKit/537.36 (KHTML, like Gecko) Chrome/117.0.0.0 Safari/537.36\", \"Accept-Encoding\":\"gzip, deflate\", \"Accept\":\"text/html,application/xhtml+xml,application/xml;q=0.9,*/*;q=0.8\",\"Accept-Language\": \"en-US, en;q=0.5\"})\n",
    "\n",
    "web_page = requests.get(URL, headers = headers)\n",
    "\n",
    "\n",
    "new_soup= BeautifulSoup(web_page.content,\"html.parser\")\n",
    "\n",
    "\n",
    "\n",
    "\n",
    "\n"
   ]
  },
  {
   "cell_type": "code",
   "execution_count": null,
   "id": "79decca2",
   "metadata": {
    "scrolled": true
   },
   "outputs": [],
   "source": [
    "print(new_soup.prettify(),'html.parser')"
   ]
  },
  {
   "cell_type": "code",
   "execution_count": null,
   "id": "632200f3",
   "metadata": {},
   "outputs": [],
   "source": [
    " section=new_soup.find(\"section\", attrs={\"data-overview\" : \"RCountry\"})"
   ]
  },
  {
   "cell_type": "code",
   "execution_count": null,
   "id": "6500995e",
   "metadata": {},
   "outputs": [],
   "source": [
    "\n",
    "\n",
    "#print(section.findAll(\"a\", attrs={\"data-overview\" : \"RCountry\"}))\n",
    "\n",
    "\n",
    "countries=section.findAll(\"a\", attrs={\"class\":\"col d-flex justify-content-center flex-column\"})"
   ]
  },
  {
   "cell_type": "code",
   "execution_count": null,
   "id": "402a24ad",
   "metadata": {},
   "outputs": [],
   "source": [
    "countries"
   ]
  },
  {
   "cell_type": "code",
   "execution_count": null,
   "id": "e237461c",
   "metadata": {},
   "outputs": [],
   "source": [
    "countries[0].img\n"
   ]
  },
  {
   "cell_type": "code",
   "execution_count": null,
   "id": "3fc0b36b",
   "metadata": {},
   "outputs": [],
   "source": [
    "for country in countries:\n",
    "    name=country.span.text\n",
    "    link=country['href']\n",
    "    img=country.img['data-src']\n",
    "    print('\"'+ name + '\",\"' + link +'\",\"'+ img + '\"')"
   ]
  },
  {
   "cell_type": "code",
   "execution_count": null,
   "id": "11df7556",
   "metadata": {},
   "outputs": [],
   "source": []
  }
 ],
 "metadata": {
  "kernelspec": {
   "display_name": "Python 3 (ipykernel)",
   "language": "python",
   "name": "python3"
  },
  "language_info": {
   "codemirror_mode": {
    "name": "ipython",
    "version": 3
   },
   "file_extension": ".py",
   "mimetype": "text/x-python",
   "name": "python",
   "nbconvert_exporter": "python",
   "pygments_lexer": "ipython3",
   "version": "3.11.3"
  }
 },
 "nbformat": 4,
 "nbformat_minor": 5
}
